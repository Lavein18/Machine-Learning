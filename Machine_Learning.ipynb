import pandas as pd
import numpy as np
import matplotlib.pyplot as plt
import seaborn as sns
df = pd.read_excel('/samplebankloandata.xlsx')
print(df.head())
print(df.head())
print(df.tail())
print(df.dtypes)
print(df.isnull().sum())
print(df.describe())
sns.histplot(data=df, x='annual_inc', kde=True)
plt.title('Distribution of Annual Income')
plt.show()
sns.histplot(data=df, x='loan_amount', kde=True)
plt.title('Distribution of Loan Amount')
plt.show()
sns.countplot(data=df, x='home_ownership')
plt.xticks(rotation=45)
plt.title('Home Ownership Count by Type')
plt.show()
sns.barplot(data=df, x='grade', y='dti', estimator=np.mean)
plt.xticks(rotation=45)
plt.title('Grade by Dti')
plt.show()
plt.pie(df['region'].value_counts(), labels=df['region'].value_counts().index, autopct='%1.1f%%')
plt.title('People Distribution over Region')
plt.show()
encoded_df = pd.get_dummies(df)

# Now, compute the correlation matrix
corr = encoded_df.corr()

sns.heatmap(corr, annot=True, cmap='coolwarm')
plt.title('Correlation Heatmap')
plt.show()
numeric_df = df.select_dtypes(include=['number'])
corr = numeric_df.corr()

plt.figure(figsize=(10, 8))
sns.heatmap(corr, annot=True, cmap='coolwarm', fmt=".2f", linewidths=0.5)
plt.title('Correlation Heatmap', fontsize=16)
plt.xticks(fontsize=12)
plt.yticks(fontsize=12)
plt.show()
sns.boxplot(data=df, x='grade', y='total_pymnt', showfliers=False)
plt.title('Grade % by Toatal Payment')
plt.show()
df.groupby('loan_amount')['loan_amount'].sum().plot()
plt.title('Loan Amount Over Time')
plt.xticks(rotation=45)
plt.show()
sns.scatterplot(data=df, x='loan_amount', y='interest_rate')
plt.title('Loan Amount vs. Interest Rate')
plt.show()
import plotly.express as px

fig = px.scatter_3d(df, x='annual_inc', y='region', z='installment',
                  color='purpose')
fig.update_layout(scene = dict(
                    xaxis = dict(title  = 'annual_inc'),
                    yaxis = dict(title  = 'region'),
                    zaxis = dict(title  = 'installment')))
fig.show()
